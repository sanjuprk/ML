{
 "cells": [
  {
   "cell_type": "code",
   "execution_count": 1,
   "metadata": {
    "collapsed": true
   },
   "outputs": [],
   "source": [
    "# load libraries\n",
    "\n",
    "import pandas as pd\n",
    "import numpy as np\n",
    "import re\n",
    "import datetime\n",
    "from nltk.corpus import stopwords\n",
    "from sklearn.preprocessing import LabelEncoder\n",
    "from nltk.stem.snowball import SnowballStemmer\n",
    "from sklearn.feature_extraction.text import CountVectorizer\n",
    "import xgboost as xgb\n",
    "\n",
    "pd.set_option('display.max_colwidth',100)"
   ]
  },
  {
   "cell_type": "code",
   "execution_count": 29,
   "metadata": {
    "collapsed": true
   },
   "outputs": [],
   "source": [
    "#load data\n",
    "train = pd.read_csv('data/train.csv')\n",
    "test = pd.read_csv('data/test.csv')"
   ]
  },
  {
   "cell_type": "code",
   "execution_count": 3,
   "metadata": {
    "collapsed": false
   },
   "outputs": [
    {
     "name": "stdout",
     "output_type": "stream",
     "text": [
      "(108129, 14)\n",
      "(63465, 12)\n"
     ]
    }
   ],
   "source": [
    "print train.shape\n",
    "print test.shape"
   ]
  },
  {
   "cell_type": "code",
   "execution_count": 4,
   "metadata": {
    "collapsed": false
   },
   "outputs": [
    {
     "data": {
      "text/plain": [
       "Index([u'project_id', u'name', u'desc', u'goal', u'keywords',\n",
       "       u'disable_communication', u'country', u'currency', u'deadline',\n",
       "       u'state_changed_at', u'created_at', u'launched_at', u'backers_count',\n",
       "       u'final_status'],\n",
       "      dtype='object')"
      ]
     },
     "execution_count": 4,
     "metadata": {},
     "output_type": "execute_result"
    }
   ],
   "source": [
    "train.columns"
   ]
  },
  {
   "cell_type": "code",
   "execution_count": 5,
   "metadata": {
    "collapsed": false,
    "scrolled": true
   },
   "outputs": [
    {
     "data": {
      "text/html": [
       "<div>\n",
       "<table border=\"1\" class=\"dataframe\">\n",
       "  <thead>\n",
       "    <tr style=\"text-align: right;\">\n",
       "      <th></th>\n",
       "      <th>project_id</th>\n",
       "      <th>name</th>\n",
       "      <th>desc</th>\n",
       "      <th>goal</th>\n",
       "      <th>keywords</th>\n",
       "      <th>disable_communication</th>\n",
       "      <th>country</th>\n",
       "      <th>currency</th>\n",
       "      <th>deadline</th>\n",
       "      <th>state_changed_at</th>\n",
       "      <th>created_at</th>\n",
       "      <th>launched_at</th>\n",
       "      <th>backers_count</th>\n",
       "      <th>final_status</th>\n",
       "    </tr>\n",
       "  </thead>\n",
       "  <tbody>\n",
       "    <tr>\n",
       "      <th>0</th>\n",
       "      <td>kkst1451568084</td>\n",
       "      <td>drawing for dollars</td>\n",
       "      <td>I like drawing pictures. and then i color them too. so i thought i would suggest something for m...</td>\n",
       "      <td>20.0</td>\n",
       "      <td>drawing-for-dollars</td>\n",
       "      <td>False</td>\n",
       "      <td>US</td>\n",
       "      <td>USD</td>\n",
       "      <td>1241333999</td>\n",
       "      <td>1241334017</td>\n",
       "      <td>1240600507</td>\n",
       "      <td>1240602723</td>\n",
       "      <td>3</td>\n",
       "      <td>1</td>\n",
       "    </tr>\n",
       "    <tr>\n",
       "      <th>1</th>\n",
       "      <td>kkst1474482071</td>\n",
       "      <td>Sponsor Dereck Blackburn (Lostwars) Artist in Residence in Kankakee Illinois</td>\n",
       "      <td>I, Dereck Blackburn will be taking upon an incredible journey in the month of May 2009. I will b...</td>\n",
       "      <td>300.0</td>\n",
       "      <td>sponsor-dereck-blackburn-lostwars-artist-in-residence-in-kankakee-illinois</td>\n",
       "      <td>False</td>\n",
       "      <td>US</td>\n",
       "      <td>USD</td>\n",
       "      <td>1242429000</td>\n",
       "      <td>1242432018</td>\n",
       "      <td>1240960224</td>\n",
       "      <td>1240975592</td>\n",
       "      <td>2</td>\n",
       "      <td>0</td>\n",
       "    </tr>\n",
       "    <tr>\n",
       "      <th>2</th>\n",
       "      <td>kkst183622197</td>\n",
       "      <td>Mr. Squiggles</td>\n",
       "      <td>So I saw darkpony's successfully funded drawing for dollars project and I thought \"\"\"\"\"\"\"\"\"\"\"\"\"\"...</td>\n",
       "      <td>30.0</td>\n",
       "      <td>mr-squiggles</td>\n",
       "      <td>False</td>\n",
       "      <td>US</td>\n",
       "      <td>USD</td>\n",
       "      <td>1243027560</td>\n",
       "      <td>1243027818</td>\n",
       "      <td>1242163613</td>\n",
       "      <td>1242164398</td>\n",
       "      <td>0</td>\n",
       "      <td>0</td>\n",
       "    </tr>\n",
       "    <tr>\n",
       "      <th>3</th>\n",
       "      <td>kkst597742710</td>\n",
       "      <td>Help me write my second novel.</td>\n",
       "      <td>Do your part to help out starving artists and help me write my second novel!\\r\\n\\r\\nI have just ...</td>\n",
       "      <td>500.0</td>\n",
       "      <td>help-me-write-my-second-novel</td>\n",
       "      <td>False</td>\n",
       "      <td>US</td>\n",
       "      <td>USD</td>\n",
       "      <td>1243555740</td>\n",
       "      <td>1243556121</td>\n",
       "      <td>1240963795</td>\n",
       "      <td>1240966730</td>\n",
       "      <td>18</td>\n",
       "      <td>1</td>\n",
       "    </tr>\n",
       "    <tr>\n",
       "      <th>4</th>\n",
       "      <td>kkst1913131122</td>\n",
       "      <td>Support casting my sculpture in bronze</td>\n",
       "      <td>I'm nearing completion on a sculpture, currently titled \"\"\"\"\"\"\"\"\"\"\"\"\"\"\"\"\"\"\"\"\"\"\"\"\"\"\"\"\"\"\"\"\"\"\"\"\"\"\"\"...</td>\n",
       "      <td>2000.0</td>\n",
       "      <td>support-casting-my-sculpture-in-bronze</td>\n",
       "      <td>False</td>\n",
       "      <td>US</td>\n",
       "      <td>USD</td>\n",
       "      <td>1243769880</td>\n",
       "      <td>1243770317</td>\n",
       "      <td>1241177914</td>\n",
       "      <td>1241180541</td>\n",
       "      <td>1</td>\n",
       "      <td>0</td>\n",
       "    </tr>\n",
       "  </tbody>\n",
       "</table>\n",
       "</div>"
      ],
      "text/plain": [
       "       project_id  \\\n",
       "0  kkst1451568084   \n",
       "1  kkst1474482071   \n",
       "2   kkst183622197   \n",
       "3   kkst597742710   \n",
       "4  kkst1913131122   \n",
       "\n",
       "                                                                           name  \\\n",
       "0                                                           drawing for dollars   \n",
       "1  Sponsor Dereck Blackburn (Lostwars) Artist in Residence in Kankakee Illinois   \n",
       "2                                                                 Mr. Squiggles   \n",
       "3                                                Help me write my second novel.   \n",
       "4                                        Support casting my sculpture in bronze   \n",
       "\n",
       "                                                                                                  desc  \\\n",
       "0  I like drawing pictures. and then i color them too. so i thought i would suggest something for m...   \n",
       "1  I, Dereck Blackburn will be taking upon an incredible journey in the month of May 2009. I will b...   \n",
       "2  So I saw darkpony's successfully funded drawing for dollars project and I thought \"\"\"\"\"\"\"\"\"\"\"\"\"\"...   \n",
       "3  Do your part to help out starving artists and help me write my second novel!\\r\\n\\r\\nI have just ...   \n",
       "4  I'm nearing completion on a sculpture, currently titled \"\"\"\"\"\"\"\"\"\"\"\"\"\"\"\"\"\"\"\"\"\"\"\"\"\"\"\"\"\"\"\"\"\"\"\"\"\"\"\"...   \n",
       "\n",
       "     goal  \\\n",
       "0    20.0   \n",
       "1   300.0   \n",
       "2    30.0   \n",
       "3   500.0   \n",
       "4  2000.0   \n",
       "\n",
       "                                                                     keywords  \\\n",
       "0                                                         drawing-for-dollars   \n",
       "1  sponsor-dereck-blackburn-lostwars-artist-in-residence-in-kankakee-illinois   \n",
       "2                                                                mr-squiggles   \n",
       "3                                               help-me-write-my-second-novel   \n",
       "4                                      support-casting-my-sculpture-in-bronze   \n",
       "\n",
       "  disable_communication country currency    deadline  state_changed_at  \\\n",
       "0                 False      US      USD  1241333999        1241334017   \n",
       "1                 False      US      USD  1242429000        1242432018   \n",
       "2                 False      US      USD  1243027560        1243027818   \n",
       "3                 False      US      USD  1243555740        1243556121   \n",
       "4                 False      US      USD  1243769880        1243770317   \n",
       "\n",
       "   created_at  launched_at  backers_count  final_status  \n",
       "0  1240600507   1240602723              3             1  \n",
       "1  1240960224   1240975592              2             0  \n",
       "2  1242163613   1242164398              0             0  \n",
       "3  1240963795   1240966730             18             1  \n",
       "4  1241177914   1241180541              1             0  "
      ]
     },
     "execution_count": 5,
     "metadata": {},
     "output_type": "execute_result"
    }
   ],
   "source": [
    "train.head()"
   ]
  },
  {
   "cell_type": "markdown",
   "metadata": {},
   "source": [
    "### Currency and Country"
   ]
  },
  {
   "cell_type": "code",
   "execution_count": 6,
   "metadata": {
    "collapsed": false,
    "scrolled": true
   },
   "outputs": [
    {
     "data": {
      "text/plain": [
       "country  final_status\n",
       "AU       0               0.817553\n",
       "         1               0.182447\n",
       "CA       0               0.775964\n",
       "         1               0.224036\n",
       "DE       0               1.000000\n",
       "DK       0               0.775510\n",
       "         1               0.224490\n",
       "GB       0               0.713405\n",
       "         1               0.286595\n",
       "IE       0               0.792793\n",
       "         1               0.207207\n",
       "NL       0               0.875177\n",
       "         1               0.124823\n",
       "NO       0               0.842105\n",
       "         1               0.157895\n",
       "NZ       0               0.774648\n",
       "         1               0.225352\n",
       "SE       0               0.812500\n",
       "         1               0.187500\n",
       "US       0               0.667804\n",
       "         1               0.332196\n",
       "Name: final_status, dtype: float64"
      ]
     },
     "execution_count": 6,
     "metadata": {},
     "output_type": "execute_result"
    }
   ],
   "source": [
    "train.groupby(train['country']).final_status.value_counts(normalize=True)"
   ]
  },
  {
   "cell_type": "code",
   "execution_count": 7,
   "metadata": {
    "collapsed": false,
    "scrolled": true
   },
   "outputs": [
    {
     "data": {
      "text/plain": [
       "currency  final_status\n",
       "AUD       0               0.817553\n",
       "          1               0.182447\n",
       "CAD       0               0.775964\n",
       "          1               0.224036\n",
       "DKK       0               0.775510\n",
       "          1               0.224490\n",
       "EUR       0               0.864137\n",
       "          1               0.135863\n",
       "GBP       0               0.713405\n",
       "          1               0.286595\n",
       "NOK       0               0.842105\n",
       "          1               0.157895\n",
       "NZD       0               0.774648\n",
       "          1               0.225352\n",
       "SEK       0               0.812500\n",
       "          1               0.187500\n",
       "USD       0               0.667804\n",
       "          1               0.332196\n",
       "Name: final_status, dtype: float64"
      ]
     },
     "execution_count": 7,
     "metadata": {},
     "output_type": "execute_result"
    }
   ],
   "source": [
    "train.groupby(train['currency']).final_status.value_counts(normalize=True)"
   ]
  },
  {
   "cell_type": "code",
   "execution_count": 69,
   "metadata": {
    "collapsed": false
   },
   "outputs": [],
   "source": [
    "train_currency_dummies = pd.get_dummies(train['currency'])"
   ]
  },
  {
   "cell_type": "code",
   "execution_count": 71,
   "metadata": {
    "collapsed": false
   },
   "outputs": [
    {
     "data": {
      "text/html": [
       "<div>\n",
       "<table border=\"1\" class=\"dataframe\">\n",
       "  <thead>\n",
       "    <tr style=\"text-align: right;\">\n",
       "      <th></th>\n",
       "      <th>AUD</th>\n",
       "      <th>CAD</th>\n",
       "      <th>DKK</th>\n",
       "      <th>EUR</th>\n",
       "      <th>GBP</th>\n",
       "      <th>NOK</th>\n",
       "      <th>NZD</th>\n",
       "      <th>SEK</th>\n",
       "      <th>USD</th>\n",
       "    </tr>\n",
       "  </thead>\n",
       "  <tbody>\n",
       "    <tr>\n",
       "      <th>0</th>\n",
       "      <td>0</td>\n",
       "      <td>0</td>\n",
       "      <td>0</td>\n",
       "      <td>0</td>\n",
       "      <td>0</td>\n",
       "      <td>0</td>\n",
       "      <td>0</td>\n",
       "      <td>0</td>\n",
       "      <td>1</td>\n",
       "    </tr>\n",
       "    <tr>\n",
       "      <th>1</th>\n",
       "      <td>0</td>\n",
       "      <td>0</td>\n",
       "      <td>0</td>\n",
       "      <td>0</td>\n",
       "      <td>0</td>\n",
       "      <td>0</td>\n",
       "      <td>0</td>\n",
       "      <td>0</td>\n",
       "      <td>1</td>\n",
       "    </tr>\n",
       "    <tr>\n",
       "      <th>2</th>\n",
       "      <td>0</td>\n",
       "      <td>0</td>\n",
       "      <td>0</td>\n",
       "      <td>0</td>\n",
       "      <td>0</td>\n",
       "      <td>0</td>\n",
       "      <td>0</td>\n",
       "      <td>0</td>\n",
       "      <td>1</td>\n",
       "    </tr>\n",
       "    <tr>\n",
       "      <th>3</th>\n",
       "      <td>0</td>\n",
       "      <td>0</td>\n",
       "      <td>0</td>\n",
       "      <td>0</td>\n",
       "      <td>0</td>\n",
       "      <td>0</td>\n",
       "      <td>0</td>\n",
       "      <td>0</td>\n",
       "      <td>1</td>\n",
       "    </tr>\n",
       "    <tr>\n",
       "      <th>4</th>\n",
       "      <td>0</td>\n",
       "      <td>0</td>\n",
       "      <td>0</td>\n",
       "      <td>0</td>\n",
       "      <td>0</td>\n",
       "      <td>0</td>\n",
       "      <td>0</td>\n",
       "      <td>0</td>\n",
       "      <td>1</td>\n",
       "    </tr>\n",
       "  </tbody>\n",
       "</table>\n",
       "</div>"
      ],
      "text/plain": [
       "   AUD  CAD  DKK  EUR  GBP  NOK  NZD  SEK  USD\n",
       "0    0    0    0    0    0    0    0    0    1\n",
       "1    0    0    0    0    0    0    0    0    1\n",
       "2    0    0    0    0    0    0    0    0    1\n",
       "3    0    0    0    0    0    0    0    0    1\n",
       "4    0    0    0    0    0    0    0    0    1"
      ]
     },
     "execution_count": 71,
     "metadata": {},
     "output_type": "execute_result"
    }
   ],
   "source": [
    "train_currency_dummies.head()"
   ]
  },
  {
   "cell_type": "code",
   "execution_count": 75,
   "metadata": {
    "collapsed": false
   },
   "outputs": [],
   "source": [
    "train = pd.concat([train,train_currency_dummies],axis = 1)"
   ]
  },
  {
   "cell_type": "code",
   "execution_count": 77,
   "metadata": {
    "collapsed": false
   },
   "outputs": [],
   "source": [
    "test_currency_dummies = pd.get_dummies(test['currency'])\n",
    "test = pd.concat([test,test_currency_dummies],axis = 1)"
   ]
  },
  {
   "cell_type": "code",
   "execution_count": 102,
   "metadata": {
    "collapsed": false
   },
   "outputs": [
    {
     "name": "stdout",
     "output_type": "stream",
     "text": [
      "['AUD', 'CAD', 'DKK', 'EUR', 'GBP', 'NOK', 'NZD', 'SEK', 'USD']\n"
     ]
    }
   ],
   "source": [
    "currency_list = list((train_currency_dummies.columns))\n",
    "print currency_list"
   ]
  },
  {
   "cell_type": "markdown",
   "metadata": {},
   "source": [
    "Not much difference at all, we can consider either of these two as features, I chose currency arbitarily.."
   ]
  },
  {
   "cell_type": "markdown",
   "metadata": {},
   "source": [
    "### Time Data"
   ]
  },
  {
   "cell_type": "code",
   "execution_count": 30,
   "metadata": {
    "collapsed": true
   },
   "outputs": [],
   "source": [
    "days = (24*60*60*1.0)"
   ]
  },
  {
   "cell_type": "code",
   "execution_count": 31,
   "metadata": {
    "collapsed": false
   },
   "outputs": [],
   "source": [
    "train['d_s'] = ((train['state_changed_at']) < (train['deadline']))\n",
    "train['l_c'] = ((train['launched_at']) - (train['created_at']))/days\n",
    "train['s_l'] = ((train['state_changed_at']) - (train['launched_at']))/days"
   ]
  },
  {
   "cell_type": "code",
   "execution_count": 32,
   "metadata": {
    "collapsed": false
   },
   "outputs": [
    {
     "data": {
      "text/plain": [
       "final_status  d_s  \n",
       "0             False    67688\n",
       "              True      5880\n",
       "1             False    34561\n",
       "Name: d_s, dtype: int64"
      ]
     },
     "execution_count": 32,
     "metadata": {},
     "output_type": "execute_result"
    }
   ],
   "source": [
    "train.groupby('final_status').d_s.value_counts()"
   ]
  },
  {
   "cell_type": "code",
   "execution_count": 44,
   "metadata": {
    "collapsed": false
   },
   "outputs": [
    {
     "data": {
      "text/plain": [
       "0    581\n",
       "1    225\n",
       "Name: final_status, dtype: int64"
      ]
     },
     "execution_count": 44,
     "metadata": {},
     "output_type": "execute_result"
    }
   ],
   "source": [
    "(train['final_status'][train['s_l']>89]).value_counts()"
   ]
  },
  {
   "cell_type": "code",
   "execution_count": 34,
   "metadata": {
    "collapsed": false
   },
   "outputs": [
    {
     "data": {
      "text/plain": [
       "final_status\n",
       "0    35.771002\n",
       "1    41.982384\n",
       "Name: l_c, dtype: float64"
      ]
     },
     "execution_count": 34,
     "metadata": {},
     "output_type": "execute_result"
    }
   ],
   "source": [
    "train.groupby('final_status').l_c.mean()"
   ]
  },
  {
   "cell_type": "code",
   "execution_count": 35,
   "metadata": {
    "collapsed": false
   },
   "outputs": [
    {
     "data": {
      "text/plain": [
       "0    0.680373\n",
       "1    0.319627\n",
       "Name: final_status, dtype: float64"
      ]
     },
     "execution_count": 35,
     "metadata": {},
     "output_type": "execute_result"
    }
   ],
   "source": [
    "train.final_status.value_counts(normalize=True)"
   ]
  },
  {
   "cell_type": "code",
   "execution_count": 22,
   "metadata": {
    "collapsed": false
   },
   "outputs": [],
   "source": [
    "# convert unix time format\n",
    "unix_cols = ['deadline','state_changed_at','launched_at','created_at']\n",
    "\n",
    "for x in unix_cols:\n",
    "    train[x] = train[x].apply(lambda k: datetime.datetime.fromtimestamp(int(k)).strftime('%Y-%m-%d %H:%M:%S'))\n",
    "    test[x] = test[x].apply(lambda k: datetime.datetime.fromtimestamp(int(k)).strftime('%Y-%m-%d %H:%M:%S'))\n"
   ]
  },
  {
   "cell_type": "code",
   "execution_count": 78,
   "metadata": {
    "collapsed": true
   },
   "outputs": [],
   "source": [
    "test['d_s'] = (test['state_changed_at'] < test['deadline'])"
   ]
  },
  {
   "cell_type": "markdown",
   "metadata": {},
   "source": [
    "### Backers_count and Goal"
   ]
  },
  {
   "cell_type": "code",
   "execution_count": 47,
   "metadata": {
    "collapsed": false
   },
   "outputs": [
    {
     "data": {
      "text/plain": [
       "final_status\n",
       "0     29.341534\n",
       "1    323.981800\n",
       "Name: backers_count, dtype: float64"
      ]
     },
     "execution_count": 47,
     "metadata": {},
     "output_type": "execute_result"
    }
   ],
   "source": [
    "train.groupby('final_status').backers_count.mean()"
   ]
  },
  {
   "cell_type": "code",
   "execution_count": 49,
   "metadata": {
    "collapsed": false
   },
   "outputs": [
    {
     "data": {
      "text/plain": [
       "final_status\n",
       "0    49372.588911\n",
       "1     9806.654217\n",
       "Name: goal, dtype: float64"
      ]
     },
     "execution_count": 49,
     "metadata": {},
     "output_type": "execute_result"
    }
   ],
   "source": [
    "train.groupby('final_status').goal.mean()"
   ]
  },
  {
   "cell_type": "markdown",
   "metadata": {},
   "source": [
    "### Text Data in terms of Length and Count"
   ]
  },
  {
   "cell_type": "code",
   "execution_count": 50,
   "metadata": {
    "collapsed": true
   },
   "outputs": [],
   "source": [
    "cols_to_use = ['name','desc']\n",
    "len_feats = ['name_len','desc_len']\n",
    "count_feats = ['name_count','desc_count']\n",
    "\n",
    "for i in np.arange(2):\n",
    "    train[len_feats[i]] = train[cols_to_use[i]].apply(str).apply(len)\n",
    "    test[len_feats[i]] = test[cols_to_use[i]].apply(str).apply(len)"
   ]
  },
  {
   "cell_type": "code",
   "execution_count": 51,
   "metadata": {
    "collapsed": true
   },
   "outputs": [],
   "source": [
    "train['name_count'] = train['name'].str.split().str.len()\n",
    "train['desc_count'] = train['desc'].str.split().str.len()\n",
    "\n",
    "test['name_count'] = test['name'].str.split().str.len()\n",
    "test['desc_count'] = test['desc'].str.split().str.len()"
   ]
  },
  {
   "cell_type": "code",
   "execution_count": 52,
   "metadata": {
    "collapsed": true
   },
   "outputs": [],
   "source": [
    "train['keywords_len'] = train['keywords'].str.len()\n",
    "train['keywords_count'] = train['keywords'].str.split('-').str.len()\n",
    "\n",
    "test['keywords_len'] = test['keywords'].str.len()\n",
    "test['keywords_count'] = test['keywords'].str.split('-').str.len()"
   ]
  },
  {
   "cell_type": "code",
   "execution_count": 53,
   "metadata": {
    "collapsed": false
   },
   "outputs": [
    {
     "data": {
      "text/plain": [
       "final_status\n",
       "0    50.562378\n",
       "1    54.154018\n",
       "Name: name_len, dtype: float64"
      ]
     },
     "execution_count": 53,
     "metadata": {},
     "output_type": "execute_result"
    }
   ],
   "source": [
    "train.groupby('final_status').name_len.mean()"
   ]
  },
  {
   "cell_type": "code",
   "execution_count": 54,
   "metadata": {
    "collapsed": false
   },
   "outputs": [
    {
     "data": {
      "text/plain": [
       "final_status\n",
       "0    5.552748\n",
       "1    5.977605\n",
       "Name: name_count, dtype: float64"
      ]
     },
     "execution_count": 54,
     "metadata": {},
     "output_type": "execute_result"
    }
   ],
   "source": [
    "train.groupby('final_status').name_count.mean()"
   ]
  },
  {
   "cell_type": "code",
   "execution_count": 55,
   "metadata": {
    "collapsed": false
   },
   "outputs": [
    {
     "data": {
      "text/plain": [
       "final_status\n",
       "0    133.618353\n",
       "1    135.113886\n",
       "Name: desc_len, dtype: float64"
      ]
     },
     "execution_count": 55,
     "metadata": {},
     "output_type": "execute_result"
    }
   ],
   "source": [
    "train.groupby('final_status').desc_len.mean()"
   ]
  },
  {
   "cell_type": "code",
   "execution_count": 56,
   "metadata": {
    "collapsed": false
   },
   "outputs": [
    {
     "data": {
      "text/plain": [
       "final_status\n",
       "0    19.537724\n",
       "1    19.479326\n",
       "Name: desc_count, dtype: float64"
      ]
     },
     "execution_count": 56,
     "metadata": {},
     "output_type": "execute_result"
    }
   ],
   "source": [
    "train.groupby('final_status').desc_count.mean()"
   ]
  },
  {
   "cell_type": "code",
   "execution_count": 59,
   "metadata": {
    "collapsed": false
   },
   "outputs": [
    {
     "data": {
      "text/plain": [
       "final_status\n",
       "0    30.965148\n",
       "1    33.123868\n",
       "Name: keywords_len, dtype: float64"
      ]
     },
     "execution_count": 59,
     "metadata": {},
     "output_type": "execute_result"
    }
   ],
   "source": [
    "train.groupby('final_status').keywords_len.mean()"
   ]
  },
  {
   "cell_type": "code",
   "execution_count": 58,
   "metadata": {
    "collapsed": false
   },
   "outputs": [
    {
     "data": {
      "text/plain": [
       "final_status\n",
       "0    5.293973\n",
       "1    5.707300\n",
       "Name: keywords_count, dtype: float64"
      ]
     },
     "execution_count": 58,
     "metadata": {},
     "output_type": "execute_result"
    }
   ],
   "source": [
    "train.groupby('final_status').keywords_count.mean()"
   ]
  },
  {
   "cell_type": "markdown",
   "metadata": {},
   "source": [
    "None of these features are useful at all"
   ]
  },
  {
   "cell_type": "markdown",
   "metadata": {},
   "source": [
    "### Text Features"
   ]
  },
  {
   "cell_type": "code",
   "execution_count": 60,
   "metadata": {
    "collapsed": true
   },
   "outputs": [],
   "source": [
    "# creating a full list of descriptions from train and etst\n",
    "kickdesc = pd.Series(train['desc'].tolist() + test['desc'].tolist()).astype(str)"
   ]
  },
  {
   "cell_type": "code",
   "execution_count": 61,
   "metadata": {
    "collapsed": true
   },
   "outputs": [],
   "source": [
    "# this function cleans punctuations, digits and irregular tabs. Then converts the sentences to lower\n",
    "def desc_clean(word):\n",
    "    p1 = re.sub(pattern='(\\W+)|(\\d+)|(\\s+)',repl=' ',string=word)\n",
    "    p1 = p1.lower()\n",
    "    return p1\n",
    "\n",
    "kickdesc = kickdesc.map(desc_clean)"
   ]
  },
  {
   "cell_type": "code",
   "execution_count": 62,
   "metadata": {
    "collapsed": true
   },
   "outputs": [],
   "source": [
    "stop = set(stopwords.words('english'))\n",
    "kickdesc = [[x for x in x.split() if x not in stop] for x in kickdesc]\n",
    "\n",
    "stemmer = SnowballStemmer(language='english')\n",
    "kickdesc = [[stemmer.stem(x) for x in x] for x in kickdesc]\n",
    "\n",
    "kickdesc = [[x for x in x if len(x) > 2] for x in kickdesc]\n",
    "\n",
    "kickdesc = [' '.join(x) for x in kickdesc]"
   ]
  },
  {
   "cell_type": "code",
   "execution_count": 63,
   "metadata": {
    "collapsed": true
   },
   "outputs": [],
   "source": [
    "# Due to memory error, limited the number of features to 650\n",
    "cv = CountVectorizer(max_features=650)"
   ]
  },
  {
   "cell_type": "code",
   "execution_count": 64,
   "metadata": {
    "collapsed": true
   },
   "outputs": [],
   "source": [
    "alldesc = cv.fit_transform(kickdesc).todense()"
   ]
  },
  {
   "cell_type": "code",
   "execution_count": 65,
   "metadata": {
    "collapsed": true
   },
   "outputs": [],
   "source": [
    "#create a data frame\n",
    "combine = pd.DataFrame(alldesc)\n",
    "combine.rename(columns= lambda x: 'variable_'+ str(x), inplace=True)"
   ]
  },
  {
   "cell_type": "markdown",
   "metadata": {},
   "source": [
    "### Data Adjusting for Training"
   ]
  },
  {
   "cell_type": "code",
   "execution_count": 66,
   "metadata": {
    "collapsed": true
   },
   "outputs": [],
   "source": [
    "#split the text features\n",
    "\n",
    "train_text = combine[:train.shape[0]]\n",
    "test_text = combine[train.shape[0]:]\n",
    "\n",
    "test_text.reset_index(drop=True,inplace=True)"
   ]
  },
  {
   "cell_type": "code",
   "execution_count": 103,
   "metadata": {
    "collapsed": false
   },
   "outputs": [
    {
     "name": "stdout",
     "output_type": "stream",
     "text": [
      "['goal', 'd_s', 'AUD', 'CAD', 'DKK', 'EUR', 'GBP', 'NOK', 'NZD', 'SEK', 'USD']\n"
     ]
    }
   ],
   "source": [
    "cols = ['goal','d_s'] + currency_list\n",
    "print cols"
   ]
  },
  {
   "cell_type": "code",
   "execution_count": 104,
   "metadata": {
    "collapsed": true
   },
   "outputs": [],
   "source": [
    "X_train = train[cols]\n",
    "X_test = test[cols]"
   ]
  },
  {
   "cell_type": "code",
   "execution_count": 105,
   "metadata": {
    "collapsed": true
   },
   "outputs": [],
   "source": [
    "X_train = pd.concat([X_train, train_text],axis=1)\n",
    "X_test = pd.concat([X_test, test_text],axis=1)"
   ]
  },
  {
   "cell_type": "code",
   "execution_count": 106,
   "metadata": {
    "collapsed": false
   },
   "outputs": [
    {
     "name": "stdout",
     "output_type": "stream",
     "text": [
      "(108129, 661)\n",
      "(63465, 661)\n"
     ]
    }
   ],
   "source": [
    "print X_train.shape\n",
    "print X_test.shape"
   ]
  },
  {
   "cell_type": "code",
   "execution_count": 108,
   "metadata": {
    "collapsed": true
   },
   "outputs": [],
   "source": [
    "target = train['final_status']"
   ]
  },
  {
   "cell_type": "markdown",
   "metadata": {},
   "source": [
    "### Fitting and Training"
   ]
  },
  {
   "cell_type": "code",
   "execution_count": 116,
   "metadata": {
    "collapsed": true
   },
   "outputs": [],
   "source": [
    "X_train = train_text\n",
    "X_test = test_text"
   ]
  },
  {
   "cell_type": "code",
   "execution_count": 117,
   "metadata": {
    "collapsed": false
   },
   "outputs": [],
   "source": [
    "dtrain = xgb.DMatrix(data=X_train, label = target)\n",
    "dtest = xgb.DMatrix(data=X_test)"
   ]
  },
  {
   "cell_type": "code",
   "execution_count": 118,
   "metadata": {
    "collapsed": true
   },
   "outputs": [],
   "source": [
    "params = {\n",
    "    'objective':'binary:logistic',\n",
    "    'eval_metric':'error',\n",
    "    'eta':0.025,\n",
    "    'max_depth':6,\n",
    "    'subsample':0.7,\n",
    "    'colsample_bytree':0.7,\n",
    "    'min_child_weight':5\n",
    "    \n",
    "}"
   ]
  },
  {
   "cell_type": "code",
   "execution_count": 119,
   "metadata": {
    "collapsed": true
   },
   "outputs": [],
   "source": [
    "bst_train = xgb.train(params, dtrain, num_boost_round=1000)"
   ]
  },
  {
   "cell_type": "code",
   "execution_count": 120,
   "metadata": {
    "collapsed": true
   },
   "outputs": [],
   "source": [
    "p_test = bst_train.predict(dtest)"
   ]
  },
  {
   "cell_type": "code",
   "execution_count": 121,
   "metadata": {
    "collapsed": false
   },
   "outputs": [
    {
     "data": {
      "text/html": [
       "<div>\n",
       "<table border=\"1\" class=\"dataframe\">\n",
       "  <thead>\n",
       "    <tr style=\"text-align: right;\">\n",
       "      <th></th>\n",
       "      <th>project_id</th>\n",
       "      <th>final_status</th>\n",
       "    </tr>\n",
       "  </thead>\n",
       "  <tbody>\n",
       "    <tr>\n",
       "      <th>0</th>\n",
       "      <td>kkst917493670</td>\n",
       "      <td>0.260795</td>\n",
       "    </tr>\n",
       "    <tr>\n",
       "      <th>1</th>\n",
       "      <td>kkst1664901914</td>\n",
       "      <td>0.294762</td>\n",
       "    </tr>\n",
       "    <tr>\n",
       "      <th>2</th>\n",
       "      <td>kkst925125077</td>\n",
       "      <td>0.358842</td>\n",
       "    </tr>\n",
       "    <tr>\n",
       "      <th>3</th>\n",
       "      <td>kkst1427645275</td>\n",
       "      <td>0.284261</td>\n",
       "    </tr>\n",
       "    <tr>\n",
       "      <th>4</th>\n",
       "      <td>kkst1714249266</td>\n",
       "      <td>0.314012</td>\n",
       "    </tr>\n",
       "  </tbody>\n",
       "</table>\n",
       "</div>"
      ],
      "text/plain": [
       "       project_id  final_status\n",
       "0   kkst917493670      0.260795\n",
       "1  kkst1664901914      0.294762\n",
       "2   kkst925125077      0.358842\n",
       "3  kkst1427645275      0.284261\n",
       "4  kkst1714249266      0.314012"
      ]
     },
     "execution_count": 121,
     "metadata": {},
     "output_type": "execute_result"
    }
   ],
   "source": [
    "sub = pd.DataFrame()\n",
    "sub['project_id'] = test['project_id']\n",
    "sub['final_status'] = p_test\n",
    "sub.head()"
   ]
  },
  {
   "cell_type": "code",
   "execution_count": 122,
   "metadata": {
    "collapsed": false
   },
   "outputs": [
    {
     "data": {
      "text/plain": [
       "0    0.950965\n",
       "1    0.049035\n",
       "Name: final_status, dtype: float64"
      ]
     },
     "execution_count": 122,
     "metadata": {},
     "output_type": "execute_result"
    }
   ],
   "source": [
    "sub['final_status'] = [1 if x > 0.5 else 0 for x in sub['final_status']]\n",
    "sub['final_status'].value_counts(normalize = True)"
   ]
  },
  {
   "cell_type": "code",
   "execution_count": 123,
   "metadata": {
    "collapsed": true
   },
   "outputs": [],
   "source": [
    "sub.to_csv(\"sub1_xgb.csv\",index=False) #0.70"
   ]
  },
  {
   "cell_type": "code",
   "execution_count": 125,
   "metadata": {
    "collapsed": false
   },
   "outputs": [
    {
     "data": {
      "text/plain": [
       "0    0.950965\n",
       "1    0.049035\n",
       "Name: final_status, dtype: float64"
      ]
     },
     "execution_count": 125,
     "metadata": {},
     "output_type": "execute_result"
    }
   ],
   "source": [
    "sub['final_status'].value_counts(normalize = True)"
   ]
  },
  {
   "cell_type": "code",
   "execution_count": null,
   "metadata": {
    "collapsed": true
   },
   "outputs": [],
   "source": []
  },
  {
   "cell_type": "markdown",
   "metadata": {},
   "source": [
    "# USING DL"
   ]
  },
  {
   "cell_type": "code",
   "execution_count": 127,
   "metadata": {
    "collapsed": false
   },
   "outputs": [
    {
     "data": {
      "text/html": [
       "<div>\n",
       "<table border=\"1\" class=\"dataframe\">\n",
       "  <thead>\n",
       "    <tr style=\"text-align: right;\">\n",
       "      <th></th>\n",
       "      <th>name</th>\n",
       "      <th>desc</th>\n",
       "      <th>keywords</th>\n",
       "    </tr>\n",
       "  </thead>\n",
       "  <tbody>\n",
       "    <tr>\n",
       "      <th>0</th>\n",
       "      <td>drawing for dollars</td>\n",
       "      <td>I like drawing pictures. and then i color them too. so i thought i would suggest something for m...</td>\n",
       "      <td>drawing-for-dollars</td>\n",
       "    </tr>\n",
       "    <tr>\n",
       "      <th>1</th>\n",
       "      <td>Sponsor Dereck Blackburn (Lostwars) Artist in Residence in Kankakee Illinois</td>\n",
       "      <td>I, Dereck Blackburn will be taking upon an incredible journey in the month of May 2009. I will b...</td>\n",
       "      <td>sponsor-dereck-blackburn-lostwars-artist-in-residence-in-kankakee-illinois</td>\n",
       "    </tr>\n",
       "    <tr>\n",
       "      <th>2</th>\n",
       "      <td>Mr. Squiggles</td>\n",
       "      <td>So I saw darkpony's successfully funded drawing for dollars project and I thought \"\"\"\"\"\"\"\"\"\"\"\"\"\"...</td>\n",
       "      <td>mr-squiggles</td>\n",
       "    </tr>\n",
       "    <tr>\n",
       "      <th>3</th>\n",
       "      <td>Help me write my second novel.</td>\n",
       "      <td>Do your part to help out starving artists and help me write my second novel!\\r\\n\\r\\nI have just ...</td>\n",
       "      <td>help-me-write-my-second-novel</td>\n",
       "    </tr>\n",
       "    <tr>\n",
       "      <th>4</th>\n",
       "      <td>Support casting my sculpture in bronze</td>\n",
       "      <td>I'm nearing completion on a sculpture, currently titled \"\"\"\"\"\"\"\"\"\"\"\"\"\"\"\"\"\"\"\"\"\"\"\"\"\"\"\"\"\"\"\"\"\"\"\"\"\"\"\"...</td>\n",
       "      <td>support-casting-my-sculpture-in-bronze</td>\n",
       "    </tr>\n",
       "  </tbody>\n",
       "</table>\n",
       "</div>"
      ],
      "text/plain": [
       "                                                                           name  \\\n",
       "0                                                           drawing for dollars   \n",
       "1  Sponsor Dereck Blackburn (Lostwars) Artist in Residence in Kankakee Illinois   \n",
       "2                                                                 Mr. Squiggles   \n",
       "3                                                Help me write my second novel.   \n",
       "4                                        Support casting my sculpture in bronze   \n",
       "\n",
       "                                                                                                  desc  \\\n",
       "0  I like drawing pictures. and then i color them too. so i thought i would suggest something for m...   \n",
       "1  I, Dereck Blackburn will be taking upon an incredible journey in the month of May 2009. I will b...   \n",
       "2  So I saw darkpony's successfully funded drawing for dollars project and I thought \"\"\"\"\"\"\"\"\"\"\"\"\"\"...   \n",
       "3  Do your part to help out starving artists and help me write my second novel!\\r\\n\\r\\nI have just ...   \n",
       "4  I'm nearing completion on a sculpture, currently titled \"\"\"\"\"\"\"\"\"\"\"\"\"\"\"\"\"\"\"\"\"\"\"\"\"\"\"\"\"\"\"\"\"\"\"\"\"\"\"\"...   \n",
       "\n",
       "                                                                     keywords  \n",
       "0                                                         drawing-for-dollars  \n",
       "1  sponsor-dereck-blackburn-lostwars-artist-in-residence-in-kankakee-illinois  \n",
       "2                                                                mr-squiggles  \n",
       "3                                               help-me-write-my-second-novel  \n",
       "4                                      support-casting-my-sculpture-in-bronze  "
      ]
     },
     "execution_count": 127,
     "metadata": {},
     "output_type": "execute_result"
    }
   ],
   "source": [
    "text_cols = ['name','desc','keywords']\n",
    "train[text_cols].head()"
   ]
  },
  {
   "cell_type": "code",
   "execution_count": 129,
   "metadata": {
    "collapsed": false
   },
   "outputs": [
    {
     "data": {
      "text/plain": [
       "Index([u'project_id', u'name', u'desc', u'goal', u'keywords',\n",
       "       u'disable_communication', u'country', u'currency', u'deadline',\n",
       "       u'state_changed_at', u'created_at', u'launched_at', u'backers_count',\n",
       "       u'final_status', u'd_s', u'l_c', u's_l', u'name_len', u'desc_len',\n",
       "       u'name_count', u'desc_count', u'keywords_len', u'keywords_count',\n",
       "       u'AUD', u'CAD', u'DKK', u'EUR', u'GBP', u'NOK', u'NZD', u'SEK', u'USD'],\n",
       "      dtype='object')"
      ]
     },
     "execution_count": 129,
     "metadata": {},
     "output_type": "execute_result"
    }
   ],
   "source": [
    "train.columns"
   ]
  },
  {
   "cell_type": "code",
   "execution_count": 131,
   "metadata": {
    "collapsed": false
   },
   "outputs": [],
   "source": [
    "ser = pd.Series(train['keywords_len'] - train['name_len'])"
   ]
  },
  {
   "cell_type": "code",
   "execution_count": 138,
   "metadata": {
    "collapsed": false
   },
   "outputs": [
    {
     "data": {
      "text/html": [
       "<div>\n",
       "<table border=\"1\" class=\"dataframe\">\n",
       "  <thead>\n",
       "    <tr style=\"text-align: right;\">\n",
       "      <th></th>\n",
       "      <th>name</th>\n",
       "      <th>keywords</th>\n",
       "    </tr>\n",
       "  </thead>\n",
       "  <tbody>\n",
       "    <tr>\n",
       "      <th>0</th>\n",
       "      <td>drawing for dollars</td>\n",
       "      <td>drawing-for-dollars</td>\n",
       "    </tr>\n",
       "    <tr>\n",
       "      <th>1</th>\n",
       "      <td>Sponsor Dereck Blackburn (Lostwars) Artist in Residence in Kankakee Illinois</td>\n",
       "      <td>sponsor-dereck-blackburn-lostwars-artist-in-residence-in-kankakee-illinois</td>\n",
       "    </tr>\n",
       "    <tr>\n",
       "      <th>2</th>\n",
       "      <td>Mr. Squiggles</td>\n",
       "      <td>mr-squiggles</td>\n",
       "    </tr>\n",
       "    <tr>\n",
       "      <th>3</th>\n",
       "      <td>Help me write my second novel.</td>\n",
       "      <td>help-me-write-my-second-novel</td>\n",
       "    </tr>\n",
       "    <tr>\n",
       "      <th>4</th>\n",
       "      <td>Support casting my sculpture in bronze</td>\n",
       "      <td>support-casting-my-sculpture-in-bronze</td>\n",
       "    </tr>\n",
       "    <tr>\n",
       "      <th>5</th>\n",
       "      <td>daily digest</td>\n",
       "      <td>daily-digest</td>\n",
       "    </tr>\n",
       "    <tr>\n",
       "      <th>6</th>\n",
       "      <td>iGoozex - Free iPhone app</td>\n",
       "      <td>igoozex-free-iphone-app</td>\n",
       "    </tr>\n",
       "    <tr>\n",
       "      <th>7</th>\n",
       "      <td>Drive A Faster Car 2.0</td>\n",
       "      <td>drive-a-faster-car-20</td>\n",
       "    </tr>\n",
       "    <tr>\n",
       "      <th>8</th>\n",
       "      <td>\"\"\"\"\"\"\"\"\"\"\"\"\"\"\"\"\"\"\"\"\"\"\"\"\"\"\"\"\"\"\"\"\"\"\"\"\"\"\"\"\"\"\"\"\"\"\"\"\"\"\"\"\"\"\"\"\"\"\"\"\"\"\"\"\"\"\"\"\"\"\"\"\"\"\"\"\"\"\"\"\"\"\"\"\"\"\"\"\"\"\"\"\"\"\"\"...</td>\n",
       "      <td>lostles-at-tinys-giant</td>\n",
       "    </tr>\n",
       "    <tr>\n",
       "      <th>9</th>\n",
       "      <td>Choose Your Own Adventure - A Robot Painting Series</td>\n",
       "      <td>choose-your-own-adventure-a-robot-painting-series</td>\n",
       "    </tr>\n",
       "    <tr>\n",
       "      <th>10</th>\n",
       "      <td>Anatomy of a Credibility Meltdown — a book about the Voting Machine Controversy</td>\n",
       "      <td>anatomy-of-a-credibility-meltdown-a-book-about-the</td>\n",
       "    </tr>\n",
       "    <tr>\n",
       "      <th>11</th>\n",
       "      <td>No-bit: An artist book of analog drawings inspired by digital pixels.</td>\n",
       "      <td>no-bit-an-artist-book-of-analog-drawings-inspired-by-digital-pixels</td>\n",
       "    </tr>\n",
       "    <tr>\n",
       "      <th>12</th>\n",
       "      <td>Indie Nerd Board Game, Needs Player Character Miniature Sculpted!</td>\n",
       "      <td>indie-nerd-board-game-needs-hero-miniature-sculpted</td>\n",
       "    </tr>\n",
       "    <tr>\n",
       "      <th>13</th>\n",
       "      <td>Icons for your iPhone apps</td>\n",
       "      <td>awesome-icons-for-your-iphone-apps</td>\n",
       "    </tr>\n",
       "    <tr>\n",
       "      <th>14</th>\n",
       "      <td>HAPPY VALLEY: Dexter meets 6 Feet Under. For the web. Help me make the pilot.</td>\n",
       "      <td>help-me-make-my-webseries-pilot-on-crime-and-anti-violence</td>\n",
       "    </tr>\n",
       "    <tr>\n",
       "      <th>15</th>\n",
       "      <td>Project Pedal</td>\n",
       "      <td>project-pedal</td>\n",
       "    </tr>\n",
       "    <tr>\n",
       "      <th>16</th>\n",
       "      <td>Frank Magazine Erotica Issue Party, NYC</td>\n",
       "      <td>frank-magazine-erotica-issue-party-nyc</td>\n",
       "    </tr>\n",
       "    <tr>\n",
       "      <th>17</th>\n",
       "      <td>Crossword Puzzles!</td>\n",
       "      <td>crossword-puzzles</td>\n",
       "    </tr>\n",
       "    <tr>\n",
       "      <th>18</th>\n",
       "      <td>Run, Blago Run! Show</td>\n",
       "      <td>run-blago-run-show</td>\n",
       "    </tr>\n",
       "    <tr>\n",
       "      <th>19</th>\n",
       "      <td>It Might Become a Movie</td>\n",
       "      <td>it-might-become-a-movie</td>\n",
       "    </tr>\n",
       "    <tr>\n",
       "      <th>20</th>\n",
       "      <td>365 Postcards</td>\n",
       "      <td>365-postcards</td>\n",
       "    </tr>\n",
       "    <tr>\n",
       "      <th>21</th>\n",
       "      <td>Up North Cookbook</td>\n",
       "      <td>up-north-cookbook</td>\n",
       "    </tr>\n",
       "    <tr>\n",
       "      <th>22</th>\n",
       "      <td>Take a postcard trip with Anita as she watercolors her way through Bosnia &amp; Croatia</td>\n",
       "      <td>take-a-postcard-trip-with-anita-as-she-watercolors</td>\n",
       "    </tr>\n",
       "    <tr>\n",
       "      <th>23</th>\n",
       "      <td>Decorative Nihilism Art Catalog</td>\n",
       "      <td>decorative-nihilism-art-catalog-0</td>\n",
       "    </tr>\n",
       "    <tr>\n",
       "      <th>24</th>\n",
       "      <td>Unschooling : The Movie</td>\n",
       "      <td>unschooling-the-movie</td>\n",
       "    </tr>\n",
       "    <tr>\n",
       "      <th>25</th>\n",
       "      <td>Send some kids to GameCamp!</td>\n",
       "      <td>gamecamp-athens</td>\n",
       "    </tr>\n",
       "    <tr>\n",
       "      <th>26</th>\n",
       "      <td>Smogr Alert Field Recording</td>\n",
       "      <td>smogr-alert-field-recording</td>\n",
       "    </tr>\n",
       "    <tr>\n",
       "      <th>27</th>\n",
       "      <td>Unbunny's \"\"\"\"\"\"\"\"\"\"\"\"\"\"\"\"\"\"\"\"\"\"\"\"\"\"\"\"\"\"\"\"\"\"\"\"\"\"\"\"\"\"\"\"\"\"\"\"\"\"\"\"\"\"\"\"\"\"\"\"\"\"\"\"\"\"\"\"\"\"\"\"\"\"\"\"\"\"\"\"\"\"\"\"\"\"...</td>\n",
       "      <td>unbunnys-black-strawberries-limited-edition-lp</td>\n",
       "    </tr>\n",
       "    <tr>\n",
       "      <th>28</th>\n",
       "      <td>Help fund Flying Kebab #4</td>\n",
       "      <td>flying-kebab-4</td>\n",
       "    </tr>\n",
       "    <tr>\n",
       "      <th>29</th>\n",
       "      <td>Firewall of Sound</td>\n",
       "      <td>firewall-of-sound</td>\n",
       "    </tr>\n",
       "    <tr>\n",
       "      <th>...</th>\n",
       "      <td>...</td>\n",
       "      <td>...</td>\n",
       "    </tr>\n",
       "    <tr>\n",
       "      <th>120</th>\n",
       "      <td>Save the City! Save The Falcon Lords!</td>\n",
       "      <td>save-the-city-save-the-falcon-lords</td>\n",
       "    </tr>\n",
       "    <tr>\n",
       "      <th>121</th>\n",
       "      <td>Undergrad Records - a new indie label startup. Help document the whole thing online!</td>\n",
       "      <td>are-you-having-another-episode-be-a-part-of-the-u</td>\n",
       "    </tr>\n",
       "    <tr>\n",
       "      <th>122</th>\n",
       "      <td>Animated Series: The Somewhat Comical Adventures of Prickley Pete! Watch 5 Episodes!</td>\n",
       "      <td>animated-series-the-somewhat-comical-adventures</td>\n",
       "    </tr>\n",
       "    <tr>\n",
       "      <th>123</th>\n",
       "      <td>Experience Fun History With Us!</td>\n",
       "      <td>innovative-non-boring-history-kids-camp-in-small</td>\n",
       "    </tr>\n",
       "    <tr>\n",
       "      <th>124</th>\n",
       "      <td>Subtitles in Miro - Translations and Support for the Hearing Impaired</td>\n",
       "      <td>subtitles-in-miro-translations-and-support-for-t</td>\n",
       "    </tr>\n",
       "    <tr>\n",
       "      <th>125</th>\n",
       "      <td>FACES - Expressions On A Mask</td>\n",
       "      <td>faces-expressions-on-a-mask</td>\n",
       "    </tr>\n",
       "    <tr>\n",
       "      <th>126</th>\n",
       "      <td>Bring FAUST to Athens, Ga.</td>\n",
       "      <td>bring-faust-to-athens-ga</td>\n",
       "    </tr>\n",
       "    <tr>\n",
       "      <th>127</th>\n",
       "      <td>The Vanderbilt Republic Foundation: “Masters”</td>\n",
       "      <td>masters</td>\n",
       "    </tr>\n",
       "    <tr>\n",
       "      <th>128</th>\n",
       "      <td>American graffiti artists go to Sderot to battle terror with art, beauty &amp; unity.</td>\n",
       "      <td>american-graffiti-artists-go-to-sderot-to-battle-t</td>\n",
       "    </tr>\n",
       "    <tr>\n",
       "      <th>129</th>\n",
       "      <td>Art Cafe/Pub in NYC (Canceled)</td>\n",
       "      <td>art-cafe-pub-in-nyc</td>\n",
       "    </tr>\n",
       "    <tr>\n",
       "      <th>130</th>\n",
       "      <td>Baroque Music Performing Editions</td>\n",
       "      <td>baroque-music-performing-editions</td>\n",
       "    </tr>\n",
       "    <tr>\n",
       "      <th>131</th>\n",
       "      <td>Let's Find My Dogwalker &amp; Write a Book</td>\n",
       "      <td>lets-find-my-dogwalker-and-write-a-book-0</td>\n",
       "    </tr>\n",
       "    <tr>\n",
       "      <th>132</th>\n",
       "      <td>March! The Movie</td>\n",
       "      <td>march-the-movie-0</td>\n",
       "    </tr>\n",
       "    <tr>\n",
       "      <th>133</th>\n",
       "      <td>Showpaper Issue 63</td>\n",
       "      <td>showpaper-issue-63</td>\n",
       "    </tr>\n",
       "    <tr>\n",
       "      <th>134</th>\n",
       "      <td>Listen &amp; Learn: Music for a Different Kind of Audience</td>\n",
       "      <td>listen-and-learn-music-for-a-different-kind-of-audie</td>\n",
       "    </tr>\n",
       "    <tr>\n",
       "      <th>135</th>\n",
       "      <td>Art in a Buddhist Meditation Space  (Canceled)</td>\n",
       "      <td>art-in-a-buddhist-meditation-space</td>\n",
       "    </tr>\n",
       "    <tr>\n",
       "      <th>136</th>\n",
       "      <td>The Red Book of Sonnets (Canceled)</td>\n",
       "      <td>the-red-book-of-sonnets</td>\n",
       "    </tr>\n",
       "    <tr>\n",
       "      <th>137</th>\n",
       "      <td>Las Rubias del Norte need help to complete their third album.</td>\n",
       "      <td>las-rubias-del-norte-need-help-to-complete-their-t</td>\n",
       "    </tr>\n",
       "    <tr>\n",
       "      <th>138</th>\n",
       "      <td>Florine EP on Vinyl- Limited Edition</td>\n",
       "      <td>florine-ep-on-vinyl-limited-edition</td>\n",
       "    </tr>\n",
       "    <tr>\n",
       "      <th>139</th>\n",
       "      <td>Join the journey and release Bitch's next album, \"\"\"\"\"\"\"\"\"\"\"\"\"\"\"\"\"\"\"\"\"\"\"\"\"\"\"\"\"\"\"\"\"\"\"\"\"\"\"\"\"\"\"\"\"\"\"...</td>\n",
       "      <td>join-the-journey-and-release-bitchs-next-album-b</td>\n",
       "    </tr>\n",
       "    <tr>\n",
       "      <th>140</th>\n",
       "      <td>Internet Radio to teach People Languages from the California Language Institute</td>\n",
       "      <td>internet-radio-to-teach-people-languages-from-the</td>\n",
       "    </tr>\n",
       "    <tr>\n",
       "      <th>141</th>\n",
       "      <td>\"\"\"\"\"\"\"\"\"\"\"\"\"\"\"\"\"\"\"\"\"\"\"\"\"\"\"\"\"\"\"\"\"\"\"\"\"\"\"\"\"\"\"\"\"\"\"\"\"\"\"\"\"\"\"\"\"\"\"\"\"\"\"\"\"\"\"\"\"\"\"\"\"\"\"\"\"\"\"\"\"\"\"\"\"\"\"\"\"\"\"\"\"\"\"...</td>\n",
       "      <td>internet-video-series-no-rules-the-life-and-times</td>\n",
       "    </tr>\n",
       "    <tr>\n",
       "      <th>142</th>\n",
       "      <td>Palmer Chandler - Our Micro Budgeted film needs a camera!</td>\n",
       "      <td>our-micro-budgeted-film-needs-love</td>\n",
       "    </tr>\n",
       "    <tr>\n",
       "      <th>143</th>\n",
       "      <td>Project Monahan --&gt; Indie-Pop's Best Kept Secret Records EP and Returns the Goods.</td>\n",
       "      <td>project-monahan-indie-pops-best-kept-secret-r</td>\n",
       "    </tr>\n",
       "    <tr>\n",
       "      <th>144</th>\n",
       "      <td>Broadway Melodies: A Rock &amp; Roll Mystery Musical - Animated Feature Film</td>\n",
       "      <td>broadway-melodies-a-rock-and-roll-mystery-musical</td>\n",
       "    </tr>\n",
       "    <tr>\n",
       "      <th>145</th>\n",
       "      <td>Help Emergency Umbrella Records clear an over crowded warehouse and save our records.</td>\n",
       "      <td>help-emergency-umbrella-records-clear-an-over-crow</td>\n",
       "    </tr>\n",
       "    <tr>\n",
       "      <th>146</th>\n",
       "      <td>A Dictionary Story - Art book</td>\n",
       "      <td>a-dictionary-story-art-book</td>\n",
       "    </tr>\n",
       "    <tr>\n",
       "      <th>147</th>\n",
       "      <td>Monument to Four Mayors</td>\n",
       "      <td>monument-to-four-mayors</td>\n",
       "    </tr>\n",
       "    <tr>\n",
       "      <th>148</th>\n",
       "      <td>Gordon Withers - Pre-Order The New Solo Cello Album</td>\n",
       "      <td>gordon-withers-pre-order-the-new-solo-cello-albu</td>\n",
       "    </tr>\n",
       "    <tr>\n",
       "      <th>149</th>\n",
       "      <td>Help us launch a new online application, to help those who have been stiffed on $$$</td>\n",
       "      <td>help-us-launch-a-new-online-application-to-help-t-0</td>\n",
       "    </tr>\n",
       "  </tbody>\n",
       "</table>\n",
       "<p>150 rows × 2 columns</p>\n",
       "</div>"
      ],
      "text/plain": [
       "                                                                                                    name  \\\n",
       "0                                                                                    drawing for dollars   \n",
       "1                           Sponsor Dereck Blackburn (Lostwars) Artist in Residence in Kankakee Illinois   \n",
       "2                                                                                          Mr. Squiggles   \n",
       "3                                                                         Help me write my second novel.   \n",
       "4                                                                 Support casting my sculpture in bronze   \n",
       "5                                                                                           daily digest   \n",
       "6                                                                              iGoozex - Free iPhone app   \n",
       "7                                                                                 Drive A Faster Car 2.0   \n",
       "8    \"\"\"\"\"\"\"\"\"\"\"\"\"\"\"\"\"\"\"\"\"\"\"\"\"\"\"\"\"\"\"\"\"\"\"\"\"\"\"\"\"\"\"\"\"\"\"\"\"\"\"\"\"\"\"\"\"\"\"\"\"\"\"\"\"\"\"\"\"\"\"\"\"\"\"\"\"\"\"\"\"\"\"\"\"\"\"\"\"\"\"\"\"\"\"\"...   \n",
       "9                                                    Choose Your Own Adventure - A Robot Painting Series   \n",
       "10                       Anatomy of a Credibility Meltdown — a book about the Voting Machine Controversy   \n",
       "11                                 No-bit: An artist book of analog drawings inspired by digital pixels.   \n",
       "12                                   Indie Nerd Board Game, Needs Player Character Miniature Sculpted!     \n",
       "13                                                                            Icons for your iPhone apps   \n",
       "14                         HAPPY VALLEY: Dexter meets 6 Feet Under. For the web. Help me make the pilot.   \n",
       "15                                                                                         Project Pedal   \n",
       "16                                                               Frank Magazine Erotica Issue Party, NYC   \n",
       "17                                                                                    Crossword Puzzles!   \n",
       "18                                                                                  Run, Blago Run! Show   \n",
       "19                                                                               It Might Become a Movie   \n",
       "20                                                                                         365 Postcards   \n",
       "21                                                                                     Up North Cookbook   \n",
       "22                   Take a postcard trip with Anita as she watercolors her way through Bosnia & Croatia   \n",
       "23                                                                       Decorative Nihilism Art Catalog   \n",
       "24                                                                               Unschooling : The Movie   \n",
       "25                                                                           Send some kids to GameCamp!   \n",
       "26                                                                           Smogr Alert Field Recording   \n",
       "27   Unbunny's \"\"\"\"\"\"\"\"\"\"\"\"\"\"\"\"\"\"\"\"\"\"\"\"\"\"\"\"\"\"\"\"\"\"\"\"\"\"\"\"\"\"\"\"\"\"\"\"\"\"\"\"\"\"\"\"\"\"\"\"\"\"\"\"\"\"\"\"\"\"\"\"\"\"\"\"\"\"\"\"\"\"\"\"\"\"...   \n",
       "28                                                                             Help fund Flying Kebab #4   \n",
       "29                                                                                     Firewall of Sound   \n",
       "..                                                                                                   ...   \n",
       "120                                                                Save the City! Save The Falcon Lords!   \n",
       "121                 Undergrad Records - a new indie label startup. Help document the whole thing online!   \n",
       "122                 Animated Series: The Somewhat Comical Adventures of Prickley Pete! Watch 5 Episodes!   \n",
       "123                                                                      Experience Fun History With Us!   \n",
       "124                                Subtitles in Miro - Translations and Support for the Hearing Impaired   \n",
       "125                                                                        FACES - Expressions On A Mask   \n",
       "126                                                                           Bring FAUST to Athens, Ga.   \n",
       "127                                                        The Vanderbilt Republic Foundation: “Masters”   \n",
       "128                    American graffiti artists go to Sderot to battle terror with art, beauty & unity.   \n",
       "129                                                                       Art Cafe/Pub in NYC (Canceled)   \n",
       "130                                                                    Baroque Music Performing Editions   \n",
       "131                                                               Let's Find My Dogwalker & Write a Book   \n",
       "132                                                                                     March! The Movie   \n",
       "133                                                                                   Showpaper Issue 63   \n",
       "134                                               Listen & Learn: Music for a Different Kind of Audience   \n",
       "135                                                       Art in a Buddhist Meditation Space  (Canceled)   \n",
       "136                                                                   The Red Book of Sonnets (Canceled)   \n",
       "137                                        Las Rubias del Norte need help to complete their third album.   \n",
       "138                                                                 Florine EP on Vinyl- Limited Edition   \n",
       "139  Join the journey and release Bitch's next album, \"\"\"\"\"\"\"\"\"\"\"\"\"\"\"\"\"\"\"\"\"\"\"\"\"\"\"\"\"\"\"\"\"\"\"\"\"\"\"\"\"\"\"\"\"\"\"...   \n",
       "140                      Internet Radio to teach People Languages from the California Language Institute   \n",
       "141   \"\"\"\"\"\"\"\"\"\"\"\"\"\"\"\"\"\"\"\"\"\"\"\"\"\"\"\"\"\"\"\"\"\"\"\"\"\"\"\"\"\"\"\"\"\"\"\"\"\"\"\"\"\"\"\"\"\"\"\"\"\"\"\"\"\"\"\"\"\"\"\"\"\"\"\"\"\"\"\"\"\"\"\"\"\"\"\"\"\"\"\"\"\"\"...   \n",
       "142                                            Palmer Chandler - Our Micro Budgeted film needs a camera!   \n",
       "143                   Project Monahan --> Indie-Pop's Best Kept Secret Records EP and Returns the Goods.   \n",
       "144                             Broadway Melodies: A Rock & Roll Mystery Musical - Animated Feature Film   \n",
       "145                Help Emergency Umbrella Records clear an over crowded warehouse and save our records.   \n",
       "146                                                                        A Dictionary Story - Art book   \n",
       "147                                                                              Monument to Four Mayors   \n",
       "148                                                  Gordon Withers - Pre-Order The New Solo Cello Album   \n",
       "149                  Help us launch a new online application, to help those who have been stiffed on $$$   \n",
       "\n",
       "                                                                       keywords  \n",
       "0                                                           drawing-for-dollars  \n",
       "1    sponsor-dereck-blackburn-lostwars-artist-in-residence-in-kankakee-illinois  \n",
       "2                                                                  mr-squiggles  \n",
       "3                                                 help-me-write-my-second-novel  \n",
       "4                                        support-casting-my-sculpture-in-bronze  \n",
       "5                                                                  daily-digest  \n",
       "6                                                       igoozex-free-iphone-app  \n",
       "7                                                         drive-a-faster-car-20  \n",
       "8                                                        lostles-at-tinys-giant  \n",
       "9                             choose-your-own-adventure-a-robot-painting-series  \n",
       "10                           anatomy-of-a-credibility-meltdown-a-book-about-the  \n",
       "11          no-bit-an-artist-book-of-analog-drawings-inspired-by-digital-pixels  \n",
       "12                          indie-nerd-board-game-needs-hero-miniature-sculpted  \n",
       "13                                           awesome-icons-for-your-iphone-apps  \n",
       "14                   help-me-make-my-webseries-pilot-on-crime-and-anti-violence  \n",
       "15                                                                project-pedal  \n",
       "16                                       frank-magazine-erotica-issue-party-nyc  \n",
       "17                                                            crossword-puzzles  \n",
       "18                                                           run-blago-run-show  \n",
       "19                                                      it-might-become-a-movie  \n",
       "20                                                                365-postcards  \n",
       "21                                                            up-north-cookbook  \n",
       "22                           take-a-postcard-trip-with-anita-as-she-watercolors  \n",
       "23                                            decorative-nihilism-art-catalog-0  \n",
       "24                                                        unschooling-the-movie  \n",
       "25                                                              gamecamp-athens  \n",
       "26                                                  smogr-alert-field-recording  \n",
       "27                               unbunnys-black-strawberries-limited-edition-lp  \n",
       "28                                                               flying-kebab-4  \n",
       "29                                                            firewall-of-sound  \n",
       "..                                                                          ...  \n",
       "120                                         save-the-city-save-the-falcon-lords  \n",
       "121                           are-you-having-another-episode-be-a-part-of-the-u  \n",
       "122                             animated-series-the-somewhat-comical-adventures  \n",
       "123                            innovative-non-boring-history-kids-camp-in-small  \n",
       "124                            subtitles-in-miro-translations-and-support-for-t  \n",
       "125                                                 faces-expressions-on-a-mask  \n",
       "126                                                    bring-faust-to-athens-ga  \n",
       "127                                                                     masters  \n",
       "128                          american-graffiti-artists-go-to-sderot-to-battle-t  \n",
       "129                                                         art-cafe-pub-in-nyc  \n",
       "130                                           baroque-music-performing-editions  \n",
       "131                                   lets-find-my-dogwalker-and-write-a-book-0  \n",
       "132                                                           march-the-movie-0  \n",
       "133                                                          showpaper-issue-63  \n",
       "134                        listen-and-learn-music-for-a-different-kind-of-audie  \n",
       "135                                          art-in-a-buddhist-meditation-space  \n",
       "136                                                     the-red-book-of-sonnets  \n",
       "137                          las-rubias-del-norte-need-help-to-complete-their-t  \n",
       "138                                         florine-ep-on-vinyl-limited-edition  \n",
       "139                            join-the-journey-and-release-bitchs-next-album-b  \n",
       "140                           internet-radio-to-teach-people-languages-from-the  \n",
       "141                           internet-video-series-no-rules-the-life-and-times  \n",
       "142                                          our-micro-budgeted-film-needs-love  \n",
       "143                               project-monahan-indie-pops-best-kept-secret-r  \n",
       "144                           broadway-melodies-a-rock-and-roll-mystery-musical  \n",
       "145                          help-emergency-umbrella-records-clear-an-over-crow  \n",
       "146                                                 a-dictionary-story-art-book  \n",
       "147                                                     monument-to-four-mayors  \n",
       "148                            gordon-withers-pre-order-the-new-solo-cello-albu  \n",
       "149                         help-us-launch-a-new-online-application-to-help-t-0  \n",
       "\n",
       "[150 rows x 2 columns]"
      ]
     },
     "execution_count": 138,
     "metadata": {},
     "output_type": "execute_result"
    }
   ],
   "source": [
    "train[['name','keywords']].head(150)"
   ]
  }
 ],
 "metadata": {
  "kernelspec": {
   "display_name": "Python 2",
   "language": "python",
   "name": "python2"
  },
  "language_info": {
   "codemirror_mode": {
    "name": "ipython",
    "version": 2
   },
   "file_extension": ".py",
   "mimetype": "text/x-python",
   "name": "python",
   "nbconvert_exporter": "python",
   "pygments_lexer": "ipython2",
   "version": "2.7.13"
  }
 },
 "nbformat": 4,
 "nbformat_minor": 2
}
