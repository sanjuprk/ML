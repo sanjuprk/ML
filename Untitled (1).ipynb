{
 "cells": [
  {
   "cell_type": "code",
   "execution_count": 3,
   "metadata": {
    "collapsed": false
   },
   "outputs": [
    {
     "name": "stdout",
     "output_type": "stream",
     "text": [
      "Passengers on the basis of Gender:\n",
      "Number of males is :\n",
      "577\n",
      "Number of females is :\n",
      "314\n",
      "Passengers on the basis of Class:\n",
      "Number of passengers of class 1 is :\n",
      "216\n",
      "Number of passengers of class 2 is :\n",
      "184\n",
      "Number of passengers of class 3 is :\n",
      "491\n",
      "Number of children (Age<16) on the ship =\n",
      "84\n",
      "Number of children in class 1 =\n",
      "7\n",
      "Number of children in class 2 =\n",
      "19\n",
      "Number of children in class 3 =\n",
      "58\n",
      "Replaced all the missing values using df.fillna and df.mean functions\n",
      "Number of Passengers travelling alone :\n",
      "537\n",
      "Number of passengers travelling with family (Siblings or Parents) :\n",
      "354\n",
      "Percentage of Passengers survived in each class is as follows\n",
      "Percentage of Passengers survived in class 1 :\n",
      "62\n",
      "Percentage of Passengers survived in class 2 :\n",
      "47\n",
      "Percentage of Passengers survived in class 3 :\n",
      "17\n",
      "Percentage of Passengers survived based on Gender :\n",
      "Percentage of males survived :\n",
      "18\n",
      "Percentage of females survived :\n",
      "74\n",
      "Percentage of passengers survived who are alone\n",
      "30\n",
      "Percentage of passengers who were with family members and survived\n",
      "50\n",
      "As the percentage of people who were with family members and survived is greater that the percentage of people who are\n",
      "alone and survived we can Conclude that having a family member increased the chance of survival\n"
     ]
    }
   ],
   "source": [
    "\n",
    "import numpy as np\n",
    "from numpy.random import randn\n",
    "from pandas import Series,DataFrame\n",
    "import pandas as pd\n",
    "# New import for matplotlib\n",
    "import matplotlib.pyplot as plt\n",
    "%matplotlib inline\n",
    "\n",
    "df = pd.read_csv(\"ship_data.csv\")\n",
    "no_of_male=(df[\"Gender\"]==\"male\")\n",
    "print \"Passengers on the basis of Gender:\"\n",
    "print \"Number of males is :\"\n",
    "print len(df[no_of_male])\n",
    "print \"Number of females is :\"\n",
    "print len(df)-len(df[no_of_male])\n",
    "class_1=(df[\"Class\"]==1)\n",
    "class_2=(df[\"Class\"]==2)\n",
    "class_3=(df[\"Class\"]==3)\n",
    "print \"Passengers on the basis of Class:\"\n",
    "print \"Number of passengers of class 1 is :\"\n",
    "print len(df[class_1])\n",
    "print \"Number of passengers of class 2 is :\"\n",
    "print len(df[class_2])\n",
    "print \"Number of passengers of class 3 is :\"\n",
    "print len(df[class_3])\n",
    "no_of_children=(df[\"Age\"]<16)\n",
    "print \"Number of children (Age<16) on the ship =\"\n",
    "print len(df[no_of_children])\n",
    "class1_children=(df[\"Class\"] == 1) & (df[\"Age\"] < 16)\n",
    "class2_children=(df[\"Class\"] == 2) & (df[\"Age\"] < 16)\n",
    "class3_children=(df[\"Class\"] == 3) & (df[\"Age\"] < 16)\n",
    "print \"Number of children in class 1 =\"\n",
    "print len(df[class1_children])\n",
    "print \"Number of children in class 2 =\"\n",
    "print len(df[class2_children])\n",
    "print \"Number of children in class 3 =\"\n",
    "print len(df[class3_children])\n",
    "df.fillna(df.mean())\n",
    "no_of_passengers_alone=(df[\"Parents Count\"]==0)&(df[\"Siblings Count\"]==0)\n",
    "print \"Replaced all the missing values using df.fillna and df.mean functions\"\n",
    "print \"Number of Passengers travelling alone :\"\n",
    "print len(df[no_of_passengers_alone])\n",
    "print \"Number of passengers travelling with family (Siblings or Parents) :\"\n",
    "print len(df)-len(df[no_of_passengers_alone])\n",
    "class1_survived=(df[\"Class\"] == 1) & (df[\"Survived\"] == 1)\n",
    "class2_survived=(df[\"Class\"] == 2) & (df[\"Survived\"] == 1)\n",
    "class3_survived=(df[\"Class\"] == 3) & (df[\"Survived\"] == 1)\n",
    "print \"Percentage of Passengers survived in each class is as follows\"\n",
    "print \"Percentage of Passengers survived in class 1 :\"\n",
    "print (len(df[class1_survived])*100)/len(df[class_1])\n",
    "print \"Percentage of Passengers survived in class 2 :\"\n",
    "print (len(df[class2_survived])*100)/len(df[class_2])\n",
    "print \"Percentage of Passengers survived in class 3 :\"\n",
    "print (len(df[class2_survived])*100)/len(df[class_3])\n",
    "print \"Percentage of Passengers survived based on Gender :\"\n",
    "males_survived=(df[\"Gender\"] == \"male\") & (df[\"Survived\"] == 1)\n",
    "females_survived=(df[\"Gender\"] == \"female\") & (df[\"Survived\"] == 1)\n",
    "print \"Percentage of males survived :\"\n",
    "print (len(df[males_survived])*100)/len(df[no_of_male])\n",
    "print \"Percentage of females survived :\"\n",
    "print (len(df[females_survived])*100)/(len(df)-len(df[no_of_male]))\n",
    "no_survived=(df[\"Survived\"]==1)\n",
    "print \"Percentage of passengers survived who are alone\"\n",
    "#print (len(df[no_of_passengers_alone])*100)/(len(df))\n",
    "\n",
    "percent_survived_alone=(df[\"Survived\"]==1)&((df[\"Parents Count\"]==0)&(df[\"Siblings Count\"]==0))\n",
    "print (len(df[percent_survived_alone])*100)/len(df[no_of_passengers_alone])\n",
    "print \"Percentage of passengers who were with family members and survived\"\n",
    "print ((len(df[no_survived])-len(df[percent_survived_alone]))*100)/(len(df)-len(df[no_of_passengers_alone]))\n",
    "\n",
    "print \"As the percentage of people who were with family members and survived is greater that the percentage of people who are\"\n",
    "print \"alone and survived we can Conclude that having a family member increased the chance of survival\"\n"
   ]
  },
  {
   "cell_type": "code",
   "execution_count": 4,
   "metadata": {
    "collapsed": false
   },
   "outputs": [],
   "source": [
    "df.loc[df.Gender == 'male','Gender'] = 0\n",
    "df.loc[df.Gender == 'female','Gender'] = 1"
   ]
  },
  {
   "cell_type": "code",
   "execution_count": 5,
   "metadata": {
    "collapsed": true
   },
   "outputs": [],
   "source": [
    "df.loc[df.Embarked == 'New York','Embarked'] = 0\n",
    "df.loc[df.Embarked == 'Los Angeles','Embarked'] = 1\n",
    "df.loc[df.Embarked == 'Chicago','Embarked'] = 2"
   ]
  },
  {
   "cell_type": "code",
   "execution_count": 6,
   "metadata": {
    "collapsed": false
   },
   "outputs": [
    {
     "name": "stderr",
     "output_type": "stream",
     "text": [
      "/home/sanju/anaconda2/lib/python2.7/site-packages/ipykernel/__main__.py:1: FutureWarning: convert_objects is deprecated.  Use the data-type specific converters pd.to_datetime, pd.to_timedelta and pd.to_numeric.\n",
      "  if __name__ == '__main__':\n",
      "/home/sanju/anaconda2/lib/python2.7/site-packages/ipykernel/__main__.py:2: FutureWarning: convert_objects is deprecated.  Use the data-type specific converters pd.to_datetime, pd.to_timedelta and pd.to_numeric.\n",
      "  from ipykernel import kernelapp as app\n"
     ]
    }
   ],
   "source": [
    "df['Gender'] = df['Gender'].convert_objects(convert_numeric=True)\n",
    "df['Embarked'] = df['Embarked'].convert_objects(convert_numeric=True)"
   ]
  },
  {
   "cell_type": "code",
   "execution_count": 12,
   "metadata": {
    "collapsed": false
   },
   "outputs": [
    {
     "data": {
      "text/html": [
       "<div>\n",
       "<style>\n",
       "    .dataframe thead tr:only-child th {\n",
       "        text-align: right;\n",
       "    }\n",
       "\n",
       "    .dataframe thead th {\n",
       "        text-align: left;\n",
       "    }\n",
       "\n",
       "    .dataframe tbody tr th {\n",
       "        vertical-align: top;\n",
       "    }\n",
       "</style>\n",
       "<table border=\"1\" class=\"dataframe\">\n",
       "  <thead>\n",
       "    <tr style=\"text-align: right;\">\n",
       "      <th></th>\n",
       "      <th>Passenger ID</th>\n",
       "      <th>Class</th>\n",
       "      <th>Name</th>\n",
       "      <th>Gender</th>\n",
       "      <th>Age</th>\n",
       "      <th>Siblings Count</th>\n",
       "      <th>Parents Count</th>\n",
       "      <th>Fare</th>\n",
       "      <th>Embarked</th>\n",
       "      <th>Survived</th>\n",
       "    </tr>\n",
       "  </thead>\n",
       "  <tbody>\n",
       "    <tr>\n",
       "      <th>0</th>\n",
       "      <td>1</td>\n",
       "      <td>3</td>\n",
       "      <td>Alexander Harris</td>\n",
       "      <td>0</td>\n",
       "      <td>22.0</td>\n",
       "      <td>1</td>\n",
       "      <td>0</td>\n",
       "      <td>7250.0</td>\n",
       "      <td>0.0</td>\n",
       "      <td>0</td>\n",
       "    </tr>\n",
       "    <tr>\n",
       "      <th>1</th>\n",
       "      <td>2</td>\n",
       "      <td>1</td>\n",
       "      <td>Frank Parsons</td>\n",
       "      <td>1</td>\n",
       "      <td>38.0</td>\n",
       "      <td>1</td>\n",
       "      <td>0</td>\n",
       "      <td>71283.3</td>\n",
       "      <td>1.0</td>\n",
       "      <td>1</td>\n",
       "    </tr>\n",
       "    <tr>\n",
       "      <th>2</th>\n",
       "      <td>3</td>\n",
       "      <td>3</td>\n",
       "      <td>Anthony Churchill</td>\n",
       "      <td>1</td>\n",
       "      <td>26.0</td>\n",
       "      <td>0</td>\n",
       "      <td>0</td>\n",
       "      <td>7925.0</td>\n",
       "      <td>0.0</td>\n",
       "      <td>1</td>\n",
       "    </tr>\n",
       "    <tr>\n",
       "      <th>3</th>\n",
       "      <td>4</td>\n",
       "      <td>1</td>\n",
       "      <td>Alexandra Hughes</td>\n",
       "      <td>1</td>\n",
       "      <td>35.0</td>\n",
       "      <td>1</td>\n",
       "      <td>0</td>\n",
       "      <td>53100.0</td>\n",
       "      <td>0.0</td>\n",
       "      <td>1</td>\n",
       "    </tr>\n",
       "    <tr>\n",
       "      <th>4</th>\n",
       "      <td>5</td>\n",
       "      <td>3</td>\n",
       "      <td>Joan Fraser</td>\n",
       "      <td>0</td>\n",
       "      <td>35.0</td>\n",
       "      <td>0</td>\n",
       "      <td>0</td>\n",
       "      <td>8050.0</td>\n",
       "      <td>0.0</td>\n",
       "      <td>0</td>\n",
       "    </tr>\n",
       "  </tbody>\n",
       "</table>\n",
       "</div>"
      ],
      "text/plain": [
       "   Passenger ID  Class               Name  Gender   Age  Siblings Count  \\\n",
       "0             1      3   Alexander Harris       0  22.0               1   \n",
       "1             2      1      Frank Parsons       1  38.0               1   \n",
       "2             3      3  Anthony Churchill       1  26.0               0   \n",
       "3             4      1   Alexandra Hughes       1  35.0               1   \n",
       "4             5      3        Joan Fraser       0  35.0               0   \n",
       "\n",
       "   Parents Count     Fare  Embarked  Survived  \n",
       "0              0   7250.0       0.0         0  \n",
       "1              0  71283.3       1.0         1  \n",
       "2              0   7925.0       0.0         1  \n",
       "3              0  53100.0       0.0         1  \n",
       "4              0   8050.0       0.0         0  "
      ]
     },
     "execution_count": 12,
     "metadata": {},
     "output_type": "execute_result"
    }
   ],
   "source": [
    "df.head()"
   ]
  },
  {
   "cell_type": "code",
   "execution_count": 13,
   "metadata": {
    "collapsed": true
   },
   "outputs": [],
   "source": [
    "features = ['Class','Age','Siblings Count','Parents Count','Fare','Embarked','Gender']\n",
    "target = ['Survived']"
   ]
  },
  {
   "cell_type": "code",
   "execution_count": 14,
   "metadata": {
    "collapsed": false
   },
   "outputs": [],
   "source": [
    "from sklearn.model_selection import train_test_split\n",
    "Xtrain,Xtest=train_test_split(df,test_size=0.10)    "
   ]
  },
  {
   "cell_type": "code",
   "execution_count": 15,
   "metadata": {
    "collapsed": false
   },
   "outputs": [],
   "source": [
    "from xgboost import XGBClassifier\n",
    "model = XGBClassifier()\n",
    "final_model = XGBClassifier()"
   ]
  },
  {
   "cell_type": "code",
   "execution_count": 16,
   "metadata": {
    "collapsed": false
   },
   "outputs": [
    {
     "name": "stderr",
     "output_type": "stream",
     "text": [
      "/home/sanju/anaconda2/lib/python2.7/site-packages/sklearn/preprocessing/label.py:95: DataConversionWarning: A column-vector y was passed when a 1d array was expected. Please change the shape of y to (n_samples, ), for example using ravel().\n",
      "  y = column_or_1d(y, warn=True)\n",
      "/home/sanju/anaconda2/lib/python2.7/site-packages/sklearn/preprocessing/label.py:128: DataConversionWarning: A column-vector y was passed when a 1d array was expected. Please change the shape of y to (n_samples, ), for example using ravel().\n",
      "  y = column_or_1d(y, warn=True)\n"
     ]
    },
    {
     "data": {
      "text/plain": [
       "XGBClassifier(base_score=0.5, colsample_bylevel=1, colsample_bytree=1,\n",
       "       gamma=0, learning_rate=0.1, max_delta_step=0, max_depth=3,\n",
       "       min_child_weight=1, missing=None, n_estimators=100, nthread=-1,\n",
       "       objective='binary:logistic', reg_alpha=0, reg_lambda=1,\n",
       "       scale_pos_weight=1, seed=0, silent=True, subsample=1)"
      ]
     },
     "execution_count": 16,
     "metadata": {},
     "output_type": "execute_result"
    }
   ],
   "source": [
    "model.fit(Xtrain[features],Xtrain[target])"
   ]
  },
  {
   "cell_type": "code",
   "execution_count": 17,
   "metadata": {
    "collapsed": false
   },
   "outputs": [
    {
     "name": "stdout",
     "output_type": "stream",
     "text": [
      "0.877777777778\n"
     ]
    }
   ],
   "source": [
    "print(model.score(Xtest[features],Xtest[target]))"
   ]
  },
  {
   "cell_type": "code",
   "execution_count": 22,
   "metadata": {
    "collapsed": false
   },
   "outputs": [
    {
     "data": {
      "text/plain": [
       "XGBClassifier(base_score=0.5, colsample_bylevel=1, colsample_bytree=1,\n",
       "       gamma=0, learning_rate=0.1, max_delta_step=0, max_depth=3,\n",
       "       min_child_weight=1, missing=None, n_estimators=100, nthread=-1,\n",
       "       objective='binary:logistic', reg_alpha=0, reg_lambda=1,\n",
       "       scale_pos_weight=1, seed=0, silent=True, subsample=1)"
      ]
     },
     "execution_count": 22,
     "metadata": {},
     "output_type": "execute_result"
    }
   ],
   "source": [
    "# training on the whole training data\n",
    "final_model.fit(df[features],df[target])\n",
    "# use final_model to predict on the test data"
   ]
  }
 ],
 "metadata": {
  "anaconda-cloud": {},
  "kernelspec": {
   "display_name": "Python 2",
   "language": "python",
   "name": "python2"
  },
  "language_info": {
   "codemirror_mode": {
    "name": "ipython",
    "version": 2
   },
   "file_extension": ".py",
   "mimetype": "text/x-python",
   "name": "python",
   "nbconvert_exporter": "python",
   "pygments_lexer": "ipython2",
   "version": "2.7.13"
  }
 },
 "nbformat": 4,
 "nbformat_minor": 1
}
